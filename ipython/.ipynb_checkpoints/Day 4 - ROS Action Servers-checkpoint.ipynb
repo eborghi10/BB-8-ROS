{
 "metadata": {
  "name": "",
  "signature": "sha256:4e1ddb91be323c0c9ca29a203bef995eeb3ce342c19438f355f73662c157c1b2"
 },
 "nbformat": 3,
 "nbformat_minor": 0,
 "worksheets": [
  {
   "cells": [
    {
     "cell_type": "markdown",
     "metadata": {},
     "source": [
      "# ROS Actions"
     ]
    },
    {
     "cell_type": "markdown",
     "metadata": {},
     "source": [
      "Actions are like asynchronous calls to services"
     ]
    },
    {
     "cell_type": "markdown",
     "metadata": {},
     "source": [
      "How do you know that there is an actions erver available?"
     ]
    },
    {
     "cell_type": "raw",
     "metadata": {},
     "source": [
      "rostopic list"
     ]
    },
    {
     "cell_type": "raw",
     "metadata": {},
     "source": [
      "/iri_wam/iri_wam_controller/follow_joint_trajectory/cancel\n",
      "/iri_wam/iri_wam_controller/follow_joint_trajectory/feedback                                                                   \n",
      "/iri_wam/iri_wam_controller/follow_joint_trajectory/goal                                                                       \n",
      "/iri_wam/iri_wam_controller/follow_joint_trajectory/result                                                                     \n",
      "/iri_wam/iri_wam_controller/follow_joint_trajectory/status"
     ]
    },
    {
     "cell_type": "markdown",
     "metadata": {},
     "source": [
      "There is an action server called <i>/iri_wam/iri_wam_controller/follow_joint_trajectory</i>"
     ]
    },
    {
     "cell_type": "markdown",
     "metadata": {},
     "source": [
      "The message for calling an action server is defined in a .action file"
     ]
    },
    {
     "cell_type": "raw",
     "metadata": {},
     "source": [
      "cat /opt/ros/indigo/share/actionlib_tutorials/action/Fibonacci.action"
     ]
    },
    {
     "cell_type": "markdown",
     "metadata": {},
     "source": [
      "An action server has three parts on the message:<br>\n",
      "<ul>\n",
      "<li>the goal</li>\n",
      "<li>the result</li>\n",
      "<li>the feedback</li>\n",
      "</ul>"
     ]
    },
    {
     "cell_type": "markdown",
     "metadata": {},
     "source": [
      "## Writing an action server"
     ]
    },
    {
     "cell_type": "markdown",
     "metadata": {},
     "source": [
      "This example action server generates a Fibonacci sequence, the goal is the order of the sequence, the feedback is the sequence as it is computed, and the result is the final sequence."
     ]
    },
    {
     "cell_type": "code",
     "collapsed": false,
     "input": [
      "import rospy\n",
      "\n",
      "import actionlib\n",
      "\n",
      "import actionlib_tutorials.msg\n",
      "\n",
      "class FibonacciAction(object):\n",
      "  # create messages that are used to publish feedback/result\n",
      "  _feedback = actionlib_tutorials.msg.FibonacciFeedback()\n",
      "  _result   = actionlib_tutorials.msg.FibonacciResult()\n",
      "\n",
      "  def __init__(self):\n",
      "    self._as = actionlib.SimpleActionServer(\"fibonacci_actionS\", actionlib_tutorials.msg.FibonacciAction, execute_cb=self.execute_cb)\n",
      "    self._as.start()\n",
      "    \n",
      "  def execute_cb(self, goal):\n",
      "    # helper variables\n",
      "    r = rospy.Rate(1)\n",
      "    success = True\n",
      "    \n",
      "    # append the seeds for the fibonacci sequence\n",
      "    self._feedback.sequence = []\n",
      "    self._feedback.sequence.append(0)\n",
      "    self._feedback.sequence.append(1)\n",
      "    \n",
      "    # publish info to the console for the user\n",
      "    rospy.loginfo('\"fibonacci_actionS\": Executing, creating fibonacci sequence of order %i with seeds %i, %i' % ( goal.order, self._feedback.sequence[0], self._feedback.sequence[1]))\n",
      "    \n",
      "    # start executing the action\n",
      "    for i in xrange(1, goal.order):\n",
      "      # check that preempt has not been requested by the client\n",
      "      if self._as.is_preempt_requested():\n",
      "        rospy.loginfo('Preempted')\n",
      "        self._as.set_preempted()\n",
      "        success = False\n",
      "        break\n",
      "      self._feedback.sequence.append(self._feedback.sequence[i] + self._feedback.sequence[i-1])\n",
      "      # publish the feedback\n",
      "      self._as.publish_feedback(self._feedback)\n",
      "      # this step is not necessary, the sequence is computed at 1 Hz for demonstration purposes\n",
      "      r.sleep()\n",
      "      \n",
      "    if success:\n",
      "      self._result.sequence = self._feedback.sequence\n",
      "      rospy.loginfo('Succeeded' )\n",
      "      self._as.set_succeeded(self._result)\n",
      "      \n",
      "if __name__ == '__main__':\n",
      "  rospy.init_node('fibonacci')\n",
      "  FibonacciAction()\n",
      "  rospy.spin()"
     ],
     "language": "python",
     "metadata": {},
     "outputs": []
    },
    {
     "cell_type": "markdown",
     "metadata": {},
     "source": [
      "Execute the code above and do the following tests:"
     ]
    },
    {
     "cell_type": "markdown",
     "metadata": {},
     "source": [
      "<ul>\n",
      "<li>Open a web shell and read the result topic</li>\n",
      "<li>Open anothe web shell and read the feedback topic</li>\n",
      "<li>Open another web shell and call the action server like this:</li>\n",
      "</ul>"
     ]
    },
    {
     "cell_type": "raw",
     "metadata": {},
     "source": [
      "rostopic pub /fibonacci_actionS/goal actionlib_tutorials/FibonacciActionGoal TAB-TAB"
     ]
    },
    {
     "cell_type": "markdown",
     "metadata": {},
     "source": [
      "<b>Exercise</b>"
     ]
    },
    {
     "cell_type": "markdown",
     "metadata": {},
     "source": [
      "Create an action server that makes the BB-8 move in a square when called, and that publishes in the feedback the current segment at which the robot is"
     ]
    },
    {
     "cell_type": "code",
     "collapsed": false,
     "input": [],
     "language": "python",
     "metadata": {},
     "outputs": []
    }
   ],
   "metadata": {}
  }
 ]
}